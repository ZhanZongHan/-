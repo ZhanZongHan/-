{
 "cells": [
  {
   "cell_type": "code",
   "execution_count": 1,
   "metadata": {},
   "outputs": [],
   "source": [
    "import pandas as pd \n",
    "import numpy as np\n",
    "import matplotlib.pyplot as plt\n",
    "import seaborn as sns\n",
    "from sklearn.preprocessing import OneHotEncoder, LabelEncoder\n",
    "from datetime import datetime\n",
    "import xgboost as xgb\n",
    "import lightgbm as lgb\n",
    "from sklearn.model_selection import train_test_split\n",
    "from sklearn.svm import SVR\n",
    "from sklearn.metrics import log_loss, accuracy_score, confusion_matrix\n",
    "from sklearn.linear_model import LogisticRegression\n",
    "from sklearn.ensemble import RandomForestClassifier\n",
    "from sklearn.model_selection import GridSearchCV, cross_validate, KFold, cross_val_score"
   ]
  },
  {
   "cell_type": "code",
   "execution_count": 2,
   "metadata": {},
   "outputs": [
    {
     "name": "stderr",
     "output_type": "stream",
     "text": [
      "/opt/conda/lib/python3.7/site-packages/IPython/core/interactiveshell.py:3057: DtypeWarning: Columns (15,16) have mixed types. Specify dtype option on import or set low_memory=False.\n",
      "  interactivity=interactivity, compiler=compiler, result=result)\n"
     ]
    }
   ],
   "source": [
    "train = pd.read_csv('./data/round1_diac2019_train.csv', parse_dates=['order_pay_time','goods_list_time','goods_delist_time'])\n",
    "test = pd.read_csv('./data/round1_diac2019_test.csv',)"
   ]
  },
  {
   "cell_type": "code",
   "execution_count": 3,
   "metadata": {
    "scrolled": true
   },
   "outputs": [
    {
     "name": "stdout",
     "output_type": "stream",
     "text": [
      "<class 'pandas.core.frame.DataFrame'>\n",
      "RangeIndex: 1400831 entries, 0 to 1400830\n",
      "Data columns (total 28 columns):\n",
      "order_detail_id           1400831 non-null int64\n",
      "order_id                  1400831 non-null int64\n",
      "order_total_num           1400831 non-null int64\n",
      "order_amount              1400831 non-null float64\n",
      "order_total_payment       1400831 non-null float64\n",
      "order_total_discount      1400831 non-null float64\n",
      "order_pay_time            1400831 non-null datetime64[ns]\n",
      "order_status              1400831 non-null int64\n",
      "order_count               1400831 non-null int64\n",
      "is_customer_rate          1315964 non-null float64\n",
      "order_detail_status       1400831 non-null int64\n",
      "order_detail_goods_num    1400831 non-null int64\n",
      "order_detail_amount       1315964 non-null float64\n",
      "order_detail_payment      1400831 non-null float64\n",
      "order_detail_discount     1400831 non-null float64\n",
      "customer_province         1315315 non-null object\n",
      "customer_city             1315315 non-null object\n",
      "member_id                 1400831 non-null int64\n",
      "customer_id               1400764 non-null float64\n",
      "customer_gender           551602 non-null float64\n",
      "member_status             551602 non-null float64\n",
      "is_member_actived         551602 non-null float64\n",
      "goods_id                  1400831 non-null int64\n",
      "goods_price               1400831 non-null float64\n",
      "goods_status              1400831 non-null int64\n",
      "goods_has_discount        1400831 non-null int64\n",
      "goods_list_time           1400831 non-null datetime64[ns]\n",
      "goods_delist_time         1400831 non-null datetime64[ns]\n",
      "dtypes: datetime64[ns](3), float64(12), int64(11), object(2)\n",
      "memory usage: 299.2+ MB\n"
     ]
    }
   ],
   "source": [
    "train.info(verbose=True, null_counts=True)"
   ]
  },
  {
   "cell_type": "code",
   "execution_count": 4,
   "metadata": {},
   "outputs": [],
   "source": [
    "# 去除customer_id为空的样本\n",
    "train = train.loc[~train.customer_id.isna()]"
   ]
  },
  {
   "cell_type": "code",
   "execution_count": 5,
   "metadata": {},
   "outputs": [],
   "source": [
    "part_train = train[['customer_id', 'customer_province', 'customer_city']]\n",
    "train = train.drop(['customer_province', 'customer_city'], axis=1).merge(part_train.groupby('customer_id').last(), on='customer_id', how='left')"
   ]
  },
  {
   "cell_type": "code",
   "execution_count": 7,
   "metadata": {},
   "outputs": [],
   "source": [
    "# 省份跟城市的空值以\"未知\"代替\n",
    "train.customer_province = train.customer_province.fillna('未知')\n",
    "train.customer_city = train.customer_city.fillna('未知')"
   ]
  },
  {
   "cell_type": "code",
   "execution_count": 8,
   "metadata": {},
   "outputs": [],
   "source": [
    "# 缺失值太多, 删除列\n",
    "train.drop(['member_status'], axis=1, inplace=True)"
   ]
  },
  {
   "cell_type": "code",
   "execution_count": 9,
   "metadata": {},
   "outputs": [],
   "source": [
    "train.is_member_actived = train.is_member_actived.fillna(0)\n",
    "train.is_customer_rate = train.is_customer_rate.fillna(0)"
   ]
  },
  {
   "cell_type": "code",
   "execution_count": 10,
   "metadata": {},
   "outputs": [],
   "source": [
    "train.is_customer_rate = train.is_customer_rate.astype('int16')\n",
    "train.customer_id = train.customer_id.astype('int64')\n",
    "train.is_member_actived = train.is_member_actived.astype('int16')"
   ]
  },
  {
   "cell_type": "code",
   "execution_count": 11,
   "metadata": {},
   "outputs": [],
   "source": [
    "# 总价应等于折扣+实付价格\n",
    "train.order_detail_amount = train.order_detail_discount + train.order_detail_payment\n",
    "train.order_amount = train.order_total_discount + train.order_total_payment"
   ]
  },
  {
   "cell_type": "code",
   "execution_count": 12,
   "metadata": {},
   "outputs": [],
   "source": [
    "# 省份 label encoding\n",
    "le = LabelEncoder()\n",
    "le.fit(train.customer_province)\n",
    "train.customer_province = le.transform(train.customer_province)"
   ]
  },
  {
   "cell_type": "code",
   "execution_count": 13,
   "metadata": {},
   "outputs": [],
   "source": [
    "# 城市 label encoding\n",
    "le2 = LabelEncoder()\n",
    "le2.fit(train.customer_city)\n",
    "train.customer_city = le2.transform(train.customer_city)"
   ]
  },
  {
   "cell_type": "code",
   "execution_count": 14,
   "metadata": {},
   "outputs": [],
   "source": [
    "# 用模型预测性别\n",
    "notnull_gender = train.loc[(train.customer_gender==1) | (train.customer_gender==2)]"
   ]
  },
  {
   "cell_type": "code",
   "execution_count": 15,
   "metadata": {},
   "outputs": [
    {
     "name": "stderr",
     "output_type": "stream",
     "text": [
      "/opt/conda/lib/python3.7/site-packages/pandas/core/generic.py:5096: SettingWithCopyWarning: \n",
      "A value is trying to be set on a copy of a slice from a DataFrame.\n",
      "Try using .loc[row_indexer,col_indexer] = value instead\n",
      "\n",
      "See the caveats in the documentation: http://pandas.pydata.org/pandas-docs/stable/indexing.html#indexing-view-versus-copy\n",
      "  self[name] = value\n"
     ]
    }
   ],
   "source": [
    "notnull_gender.customer_gender = notnull_gender.customer_gender.astype('int16')"
   ]
  },
  {
   "cell_type": "code",
   "execution_count": 17,
   "metadata": {},
   "outputs": [],
   "source": [
    "drop_columns = ['order_pay_time', 'goods_list_time', 'goods_delist_time']"
   ]
  },
  {
   "cell_type": "code",
   "execution_count": 18,
   "metadata": {},
   "outputs": [],
   "source": [
    "X = notnull_gender.drop(['customer_gender'], axis=1)\n",
    "y = notnull_gender.customer_gender\n",
    "X_gTrain, X_gValid, y_gTrain, y_gValid = train_test_split(X.drop(drop_columns, axis=1), y, test_size=0.3, random_state=42,stratify=y)"
   ]
  },
  {
   "cell_type": "code",
   "execution_count": 19,
   "metadata": {},
   "outputs": [],
   "source": [
    "gender_rf = RandomForestClassifier(n_estimators=470, min_samples_split=20,n_jobs=4,\n",
    "                                  min_samples_leaf=10,max_depth=21,max_features='sqrt' ,random_state=10, verbose=False, oob_score=True)"
   ]
  },
  {
   "cell_type": "code",
   "execution_count": 20,
   "metadata": {},
   "outputs": [
    {
     "data": {
      "text/plain": [
       "RandomForestClassifier(bootstrap=True, class_weight=None, criterion='gini',\n",
       "                       max_depth=21, max_features='sqrt', max_leaf_nodes=None,\n",
       "                       min_impurity_decrease=0.0, min_impurity_split=None,\n",
       "                       min_samples_leaf=10, min_samples_split=20,\n",
       "                       min_weight_fraction_leaf=0.0, n_estimators=470, n_jobs=4,\n",
       "                       oob_score=True, random_state=10, verbose=False,\n",
       "                       warm_start=False)"
      ]
     },
     "execution_count": 20,
     "metadata": {},
     "output_type": "execute_result"
    }
   ],
   "source": [
    "gender_rf.fit(X_gTrain, y_gTrain)"
   ]
  },
  {
   "cell_type": "code",
   "execution_count": 21,
   "metadata": {},
   "outputs": [
    {
     "data": {
      "text/plain": [
       "0.8400120956903503"
      ]
     },
     "execution_count": 21,
     "metadata": {},
     "output_type": "execute_result"
    }
   ],
   "source": [
    "accuracy_score(y_gValid, gender_rf.predict(X_gValid))"
   ]
  },
  {
   "cell_type": "code",
   "execution_count": 22,
   "metadata": {},
   "outputs": [],
   "source": [
    "null_fill_gender = train.loc[~((train.customer_gender==1) | (train.customer_gender==2))]"
   ]
  },
  {
   "cell_type": "code",
   "execution_count": 23,
   "metadata": {
    "scrolled": true
   },
   "outputs": [],
   "source": [
    "null_new_gender = gender_rf.predict(null_fill_gender.drop(drop_columns + ['customer_gender'], axis=1))"
   ]
  },
  {
   "cell_type": "code",
   "execution_count": 25,
   "metadata": {},
   "outputs": [
    {
     "name": "stderr",
     "output_type": "stream",
     "text": [
      "/opt/conda/lib/python3.7/site-packages/pandas/core/generic.py:5096: SettingWithCopyWarning: \n",
      "A value is trying to be set on a copy of a slice from a DataFrame.\n",
      "Try using .loc[row_indexer,col_indexer] = value instead\n",
      "\n",
      "See the caveats in the documentation: http://pandas.pydata.org/pandas-docs/stable/indexing.html#indexing-view-versus-copy\n",
      "  self[name] = value\n"
     ]
    }
   ],
   "source": [
    "null_fill_gender.customer_gender = null_new_gender"
   ]
  },
  {
   "cell_type": "code",
   "execution_count": 27,
   "metadata": {},
   "outputs": [],
   "source": [
    "train = pd.concat([null_fill_gender, notnull_gender], axis=0)"
   ]
  },
  {
   "cell_type": "code",
   "execution_count": 28,
   "metadata": {},
   "outputs": [],
   "source": [
    "train.sort_values('order_pay_time', inplace=True)"
   ]
  },
  {
   "cell_type": "code",
   "execution_count": 30,
   "metadata": {
    "scrolled": true
   },
   "outputs": [],
   "source": [
    "# 取前180天的作为标签训练集\n",
    "data_before = train.loc[train['order_pay_time'] <= datetime(2013, 7, 3)]\n",
    "data_after = train.loc[train['order_pay_time'] > datetime(2013, 7, 3)]"
   ]
  },
  {
   "cell_type": "code",
   "execution_count": 31,
   "metadata": {},
   "outputs": [
    {
     "name": "stderr",
     "output_type": "stream",
     "text": [
      "/opt/conda/lib/python3.7/site-packages/ipykernel_launcher.py:2: SettingWithCopyWarning: \n",
      "A value is trying to be set on a copy of a slice from a DataFrame.\n",
      "Try using .loc[row_indexer,col_indexer] = value instead\n",
      "\n",
      "See the caveats in the documentation: http://pandas.pydata.org/pandas-docs/stable/indexing.html#indexing-view-versus-copy\n",
      "  \n"
     ]
    }
   ],
   "source": [
    "# 构造标签\n",
    "data_before['label'] = np.int16(np.isin(data_before['customer_id'], data_after['customer_id']))"
   ]
  },
  {
   "cell_type": "code",
   "execution_count": 32,
   "metadata": {},
   "outputs": [],
   "source": [
    "# 半年内依旧上架的商品\n",
    "# 对于训练集\n",
    "test_still_list = data_before['goods_list_time'].apply(lambda x: 1 if datetime(2013, 7, 3)<=x<datetime(2014, 1, 1) else 0)\n",
    "# 对于全集\n",
    "still_list = train['goods_list_time'].apply(lambda x: 1 if datetime(2014, 1, 1)<=x<=datetime(2014, 7, 3) else 0)"
   ]
  },
  {
   "cell_type": "code",
   "execution_count": 33,
   "metadata": {},
   "outputs": [
    {
     "name": "stderr",
     "output_type": "stream",
     "text": [
      "/opt/conda/lib/python3.7/site-packages/ipykernel_launcher.py:1: SettingWithCopyWarning: \n",
      "A value is trying to be set on a copy of a slice from a DataFrame.\n",
      "Try using .loc[row_indexer,col_indexer] = value instead\n",
      "\n",
      "See the caveats in the documentation: http://pandas.pydata.org/pandas-docs/stable/indexing.html#indexing-view-versus-copy\n",
      "  \"\"\"Entry point for launching an IPython kernel.\n"
     ]
    }
   ],
   "source": [
    "data_before['still_list'] = test_still_list\n",
    "train['still_list'] = still_list"
   ]
  },
  {
   "cell_type": "code",
   "execution_count": 34,
   "metadata": {},
   "outputs": [
    {
     "name": "stderr",
     "output_type": "stream",
     "text": [
      "/opt/conda/lib/python3.7/site-packages/ipykernel_launcher.py:1: SettingWithCopyWarning: \n",
      "A value is trying to be set on a copy of a slice from a DataFrame.\n",
      "Try using .loc[row_indexer,col_indexer] = value instead\n",
      "\n",
      "See the caveats in the documentation: http://pandas.pydata.org/pandas-docs/stable/indexing.html#indexing-view-versus-copy\n",
      "  \"\"\"Entry point for launching an IPython kernel.\n"
     ]
    }
   ],
   "source": [
    "data_before['payment'] = data_before['order_total_payment'] / data_before['order_total_num']\n",
    "train['payment'] = train['order_total_payment'] / train['order_total_num']"
   ]
  },
  {
   "cell_type": "code",
   "execution_count": 35,
   "metadata": {},
   "outputs": [],
   "source": [
    " def handle(df):\n",
    "    # 计算每个用户买过的在半年内依然上架商品的数量\n",
    "    g = df.groupby('customer_id')\n",
    "    list_goods_num = g['still_list'].sum().values\n",
    "    rate_num = g['is_customer_rate'].sum().values\n",
    "    payment = g['payment'].sum().values\n",
    "    customer_id = g.count().index\n",
    "    return pd.DataFrame({'customer_id': customer_id, 'list_goods_num': list_goods_num, 'rate_num': rate_num, 'payment': payment})"
   ]
  },
  {
   "cell_type": "code",
   "execution_count": 37,
   "metadata": {},
   "outputs": [],
   "source": [
    "data_before_tool = handle(data_before)\n",
    "data_before2 = data_before.drop(drop_columns, axis=1).loc[data_before['customer_id'].drop_duplicates().index]\n",
    "data_before3 = data_before2.merge(data_before_tool, on='customer_id')"
   ]
  },
  {
   "cell_type": "code",
   "execution_count": 38,
   "metadata": {
    "scrolled": true
   },
   "outputs": [],
   "source": [
    "train_tool = handle(train)\n",
    "train2 = train.drop(drop_columns, axis=1).loc[train['customer_id'].drop_duplicates().index]\n",
    "train3 = train2.merge(train_tool, on='customer_id')"
   ]
  },
  {
   "cell_type": "code",
   "execution_count": 39,
   "metadata": {},
   "outputs": [],
   "source": [
    "def model_data(data):\n",
    "    X, y = data.drop(['label'], axis=1).values, data['label'].values\n",
    "    return train_test_split(X, y, test_size=0.1, random_state=42,stratify=y)"
   ]
  },
  {
   "cell_type": "code",
   "execution_count": 40,
   "metadata": {
    "scrolled": true
   },
   "outputs": [],
   "source": [
    "X_all = train3.drop([], axis=1).values\n",
    "X_train, X_valid, y_train, y_valid = model_data(data_before3)"
   ]
  },
  {
   "cell_type": "code",
   "execution_count": 30,
   "metadata": {},
   "outputs": [],
   "source": [
    "# 模型训练\n",
    "lgb_model = lgb.LGBMClassifier(boosting_type='gbdt', num_leaves=64, reg_alpha=0.1, reg_lambda=1.0,\n",
    "                                max_depth=-1, n_estimators=10000, objective='binary', metrics='None', \n",
    "                                bagging_fraction=0.8, is_unbalance=False, bagging_freq=5, min_child_samples=80, \n",
    "                                feature_fraction=0.8, learning_rate=0.1, random_state=42, n_jobs=8,\n",
    "                                )"
   ]
  },
  {
   "cell_type": "markdown",
   "metadata": {},
   "source": [
    "### RF"
   ]
  },
  {
   "cell_type": "code",
   "execution_count": 41,
   "metadata": {},
   "outputs": [],
   "source": [
    "rf = RandomForestClassifier(n_estimators=400, min_samples_split=35, n_jobs=4, \n",
    "                                  min_samples_leaf=20,max_depth=19,max_features='sqrt' ,random_state=10, verbose=False, oob_score=True)"
   ]
  },
  {
   "cell_type": "code",
   "execution_count": 42,
   "metadata": {
    "scrolled": true
   },
   "outputs": [
    {
     "data": {
      "text/plain": [
       "RandomForestClassifier(bootstrap=True, class_weight=None, criterion='gini',\n",
       "                       max_depth=19, max_features='sqrt', max_leaf_nodes=None,\n",
       "                       min_impurity_decrease=0.0, min_impurity_split=None,\n",
       "                       min_samples_leaf=20, min_samples_split=35,\n",
       "                       min_weight_fraction_leaf=0.0, n_estimators=400, n_jobs=4,\n",
       "                       oob_score=True, random_state=10, verbose=False,\n",
       "                       warm_start=False)"
      ]
     },
     "execution_count": 42,
     "metadata": {},
     "output_type": "execute_result"
    }
   ],
   "source": [
    "rf.fit(X_train, y_train)"
   ]
  },
  {
   "cell_type": "code",
   "execution_count": 45,
   "metadata": {
    "scrolled": true
   },
   "outputs": [],
   "source": [
    "rf_pred = rf.predict_proba(X_all)"
   ]
  },
  {
   "cell_type": "markdown",
   "metadata": {},
   "source": [
    "### 提交数据"
   ]
  },
  {
   "cell_type": "code",
   "execution_count": 46,
   "metadata": {},
   "outputs": [],
   "source": [
    "def get_result(all_data, pred):\n",
    "    global test\n",
    "    \n",
    "    all_result = pd.DataFrame({'customer_id': all_data.customer_id.values, 'result2':pred})\n",
    "    result = test.merge(all_result, on='customer_id', how='left')\n",
    "    result.result = result.result2\n",
    "    result.drop(['result2'], axis=1, inplace=True)\n",
    "    result.dropna(inplace=True)\n",
    "    result.to_csv('./data/submit.csv', index=False)\n",
    "    return result"
   ]
  },
  {
   "cell_type": "code",
   "execution_count": 47,
   "metadata": {},
   "outputs": [],
   "source": [
    "rf_result = get_result(train3, rf_pred[:, 1])"
   ]
  },
  {
   "cell_type": "code",
   "execution_count": 50,
   "metadata": {
    "scrolled": true
   },
   "outputs": [
    {
     "data": {
      "text/html": [
       "<div>\n",
       "<style scoped>\n",
       "    .dataframe tbody tr th:only-of-type {\n",
       "        vertical-align: middle;\n",
       "    }\n",
       "\n",
       "    .dataframe tbody tr th {\n",
       "        vertical-align: top;\n",
       "    }\n",
       "\n",
       "    .dataframe thead th {\n",
       "        text-align: right;\n",
       "    }\n",
       "</style>\n",
       "<table border=\"1\" class=\"dataframe\">\n",
       "  <thead>\n",
       "    <tr style=\"text-align: right;\">\n",
       "      <th></th>\n",
       "      <th>customer_id</th>\n",
       "      <th>result</th>\n",
       "    </tr>\n",
       "  </thead>\n",
       "  <tbody>\n",
       "    <tr>\n",
       "      <th>1208</th>\n",
       "      <td>921.0</td>\n",
       "      <td>0.832783</td>\n",
       "    </tr>\n",
       "    <tr>\n",
       "      <th>5184</th>\n",
       "      <td>5485.0</td>\n",
       "      <td>0.845010</td>\n",
       "    </tr>\n",
       "    <tr>\n",
       "      <th>5256</th>\n",
       "      <td>5218.0</td>\n",
       "      <td>0.834173</td>\n",
       "    </tr>\n",
       "    <tr>\n",
       "      <th>6211</th>\n",
       "      <td>6055.0</td>\n",
       "      <td>0.865779</td>\n",
       "    </tr>\n",
       "    <tr>\n",
       "      <th>6222</th>\n",
       "      <td>5835.0</td>\n",
       "      <td>0.833096</td>\n",
       "    </tr>\n",
       "    <tr>\n",
       "      <th>9073</th>\n",
       "      <td>9422.0</td>\n",
       "      <td>0.812629</td>\n",
       "    </tr>\n",
       "    <tr>\n",
       "      <th>9477</th>\n",
       "      <td>9754.0</td>\n",
       "      <td>0.816871</td>\n",
       "    </tr>\n",
       "    <tr>\n",
       "      <th>9524</th>\n",
       "      <td>9800.0</td>\n",
       "      <td>0.832430</td>\n",
       "    </tr>\n",
       "    <tr>\n",
       "      <th>10090</th>\n",
       "      <td>10122.0</td>\n",
       "      <td>0.854199</td>\n",
       "    </tr>\n",
       "    <tr>\n",
       "      <th>10251</th>\n",
       "      <td>10464.0</td>\n",
       "      <td>0.811006</td>\n",
       "    </tr>\n",
       "    <tr>\n",
       "      <th>10317</th>\n",
       "      <td>10474.0</td>\n",
       "      <td>0.808812</td>\n",
       "    </tr>\n",
       "    <tr>\n",
       "      <th>10864</th>\n",
       "      <td>10877.0</td>\n",
       "      <td>0.825357</td>\n",
       "    </tr>\n",
       "    <tr>\n",
       "      <th>11976</th>\n",
       "      <td>11316.0</td>\n",
       "      <td>0.801744</td>\n",
       "    </tr>\n",
       "    <tr>\n",
       "      <th>12307</th>\n",
       "      <td>12223.0</td>\n",
       "      <td>0.805532</td>\n",
       "    </tr>\n",
       "    <tr>\n",
       "      <th>12847</th>\n",
       "      <td>13288.0</td>\n",
       "      <td>0.810307</td>\n",
       "    </tr>\n",
       "    <tr>\n",
       "      <th>13081</th>\n",
       "      <td>13448.0</td>\n",
       "      <td>0.835448</td>\n",
       "    </tr>\n",
       "    <tr>\n",
       "      <th>13518</th>\n",
       "      <td>13545.0</td>\n",
       "      <td>0.801124</td>\n",
       "    </tr>\n",
       "    <tr>\n",
       "      <th>13963</th>\n",
       "      <td>14009.0</td>\n",
       "      <td>0.857067</td>\n",
       "    </tr>\n",
       "    <tr>\n",
       "      <th>14262</th>\n",
       "      <td>14258.0</td>\n",
       "      <td>0.822909</td>\n",
       "    </tr>\n",
       "    <tr>\n",
       "      <th>14288</th>\n",
       "      <td>14532.0</td>\n",
       "      <td>0.823700</td>\n",
       "    </tr>\n",
       "    <tr>\n",
       "      <th>14350</th>\n",
       "      <td>14668.0</td>\n",
       "      <td>0.813908</td>\n",
       "    </tr>\n",
       "    <tr>\n",
       "      <th>14411</th>\n",
       "      <td>14509.0</td>\n",
       "      <td>0.841088</td>\n",
       "    </tr>\n",
       "    <tr>\n",
       "      <th>14720</th>\n",
       "      <td>14175.0</td>\n",
       "      <td>0.842465</td>\n",
       "    </tr>\n",
       "    <tr>\n",
       "      <th>14866</th>\n",
       "      <td>15156.0</td>\n",
       "      <td>0.843912</td>\n",
       "    </tr>\n",
       "    <tr>\n",
       "      <th>15095</th>\n",
       "      <td>15106.0</td>\n",
       "      <td>0.814611</td>\n",
       "    </tr>\n",
       "    <tr>\n",
       "      <th>15139</th>\n",
       "      <td>15333.0</td>\n",
       "      <td>0.814422</td>\n",
       "    </tr>\n",
       "    <tr>\n",
       "      <th>15801</th>\n",
       "      <td>15796.0</td>\n",
       "      <td>0.831017</td>\n",
       "    </tr>\n",
       "    <tr>\n",
       "      <th>15828</th>\n",
       "      <td>15958.0</td>\n",
       "      <td>0.809306</td>\n",
       "    </tr>\n",
       "    <tr>\n",
       "      <th>15851</th>\n",
       "      <td>16023.0</td>\n",
       "      <td>0.822727</td>\n",
       "    </tr>\n",
       "    <tr>\n",
       "      <th>15999</th>\n",
       "      <td>15630.0</td>\n",
       "      <td>0.814928</td>\n",
       "    </tr>\n",
       "    <tr>\n",
       "      <th>...</th>\n",
       "      <td>...</td>\n",
       "      <td>...</td>\n",
       "    </tr>\n",
       "    <tr>\n",
       "      <th>50676</th>\n",
       "      <td>50090.0</td>\n",
       "      <td>0.805387</td>\n",
       "    </tr>\n",
       "    <tr>\n",
       "      <th>50814</th>\n",
       "      <td>51063.0</td>\n",
       "      <td>0.808564</td>\n",
       "    </tr>\n",
       "    <tr>\n",
       "      <th>50832</th>\n",
       "      <td>51318.0</td>\n",
       "      <td>0.815584</td>\n",
       "    </tr>\n",
       "    <tr>\n",
       "      <th>50858</th>\n",
       "      <td>50935.0</td>\n",
       "      <td>0.801927</td>\n",
       "    </tr>\n",
       "    <tr>\n",
       "      <th>51082</th>\n",
       "      <td>51320.0</td>\n",
       "      <td>0.806933</td>\n",
       "    </tr>\n",
       "    <tr>\n",
       "      <th>51110</th>\n",
       "      <td>51379.0</td>\n",
       "      <td>0.804927</td>\n",
       "    </tr>\n",
       "    <tr>\n",
       "      <th>51121</th>\n",
       "      <td>50754.0</td>\n",
       "      <td>0.832436</td>\n",
       "    </tr>\n",
       "    <tr>\n",
       "      <th>51664</th>\n",
       "      <td>51451.0</td>\n",
       "      <td>0.830551</td>\n",
       "    </tr>\n",
       "    <tr>\n",
       "      <th>51784</th>\n",
       "      <td>51574.0</td>\n",
       "      <td>0.819106</td>\n",
       "    </tr>\n",
       "    <tr>\n",
       "      <th>52318</th>\n",
       "      <td>52219.0</td>\n",
       "      <td>0.831759</td>\n",
       "    </tr>\n",
       "    <tr>\n",
       "      <th>53588</th>\n",
       "      <td>53489.0</td>\n",
       "      <td>0.800382</td>\n",
       "    </tr>\n",
       "    <tr>\n",
       "      <th>53596</th>\n",
       "      <td>53672.0</td>\n",
       "      <td>0.800089</td>\n",
       "    </tr>\n",
       "    <tr>\n",
       "      <th>53600</th>\n",
       "      <td>53691.0</td>\n",
       "      <td>0.842646</td>\n",
       "    </tr>\n",
       "    <tr>\n",
       "      <th>53871</th>\n",
       "      <td>53803.0</td>\n",
       "      <td>0.803686</td>\n",
       "    </tr>\n",
       "    <tr>\n",
       "      <th>54500</th>\n",
       "      <td>54530.0</td>\n",
       "      <td>0.810676</td>\n",
       "    </tr>\n",
       "    <tr>\n",
       "      <th>54921</th>\n",
       "      <td>55054.0</td>\n",
       "      <td>0.804222</td>\n",
       "    </tr>\n",
       "    <tr>\n",
       "      <th>55108</th>\n",
       "      <td>55090.0</td>\n",
       "      <td>0.841346</td>\n",
       "    </tr>\n",
       "    <tr>\n",
       "      <th>55145</th>\n",
       "      <td>55161.0</td>\n",
       "      <td>0.810768</td>\n",
       "    </tr>\n",
       "    <tr>\n",
       "      <th>55610</th>\n",
       "      <td>55428.0</td>\n",
       "      <td>0.848859</td>\n",
       "    </tr>\n",
       "    <tr>\n",
       "      <th>56151</th>\n",
       "      <td>56074.0</td>\n",
       "      <td>0.830528</td>\n",
       "    </tr>\n",
       "    <tr>\n",
       "      <th>56375</th>\n",
       "      <td>56229.0</td>\n",
       "      <td>0.834879</td>\n",
       "    </tr>\n",
       "    <tr>\n",
       "      <th>56588</th>\n",
       "      <td>56477.0</td>\n",
       "      <td>0.802253</td>\n",
       "    </tr>\n",
       "    <tr>\n",
       "      <th>56720</th>\n",
       "      <td>56615.0</td>\n",
       "      <td>0.814534</td>\n",
       "    </tr>\n",
       "    <tr>\n",
       "      <th>57454</th>\n",
       "      <td>57455.0</td>\n",
       "      <td>0.802224</td>\n",
       "    </tr>\n",
       "    <tr>\n",
       "      <th>57675</th>\n",
       "      <td>57811.0</td>\n",
       "      <td>0.827869</td>\n",
       "    </tr>\n",
       "    <tr>\n",
       "      <th>57752</th>\n",
       "      <td>57787.0</td>\n",
       "      <td>0.836656</td>\n",
       "    </tr>\n",
       "    <tr>\n",
       "      <th>58452</th>\n",
       "      <td>58370.0</td>\n",
       "      <td>0.813038</td>\n",
       "    </tr>\n",
       "    <tr>\n",
       "      <th>60383</th>\n",
       "      <td>60802.0</td>\n",
       "      <td>0.822376</td>\n",
       "    </tr>\n",
       "    <tr>\n",
       "      <th>60535</th>\n",
       "      <td>60587.0</td>\n",
       "      <td>0.828931</td>\n",
       "    </tr>\n",
       "    <tr>\n",
       "      <th>61841</th>\n",
       "      <td>61715.0</td>\n",
       "      <td>0.802613</td>\n",
       "    </tr>\n",
       "  </tbody>\n",
       "</table>\n",
       "<p>249 rows × 2 columns</p>\n",
       "</div>"
      ],
      "text/plain": [
       "       customer_id    result\n",
       "1208         921.0  0.832783\n",
       "5184        5485.0  0.845010\n",
       "5256        5218.0  0.834173\n",
       "6211        6055.0  0.865779\n",
       "6222        5835.0  0.833096\n",
       "9073        9422.0  0.812629\n",
       "9477        9754.0  0.816871\n",
       "9524        9800.0  0.832430\n",
       "10090      10122.0  0.854199\n",
       "10251      10464.0  0.811006\n",
       "10317      10474.0  0.808812\n",
       "10864      10877.0  0.825357\n",
       "11976      11316.0  0.801744\n",
       "12307      12223.0  0.805532\n",
       "12847      13288.0  0.810307\n",
       "13081      13448.0  0.835448\n",
       "13518      13545.0  0.801124\n",
       "13963      14009.0  0.857067\n",
       "14262      14258.0  0.822909\n",
       "14288      14532.0  0.823700\n",
       "14350      14668.0  0.813908\n",
       "14411      14509.0  0.841088\n",
       "14720      14175.0  0.842465\n",
       "14866      15156.0  0.843912\n",
       "15095      15106.0  0.814611\n",
       "15139      15333.0  0.814422\n",
       "15801      15796.0  0.831017\n",
       "15828      15958.0  0.809306\n",
       "15851      16023.0  0.822727\n",
       "15999      15630.0  0.814928\n",
       "...            ...       ...\n",
       "50676      50090.0  0.805387\n",
       "50814      51063.0  0.808564\n",
       "50832      51318.0  0.815584\n",
       "50858      50935.0  0.801927\n",
       "51082      51320.0  0.806933\n",
       "51110      51379.0  0.804927\n",
       "51121      50754.0  0.832436\n",
       "51664      51451.0  0.830551\n",
       "51784      51574.0  0.819106\n",
       "52318      52219.0  0.831759\n",
       "53588      53489.0  0.800382\n",
       "53596      53672.0  0.800089\n",
       "53600      53691.0  0.842646\n",
       "53871      53803.0  0.803686\n",
       "54500      54530.0  0.810676\n",
       "54921      55054.0  0.804222\n",
       "55108      55090.0  0.841346\n",
       "55145      55161.0  0.810768\n",
       "55610      55428.0  0.848859\n",
       "56151      56074.0  0.830528\n",
       "56375      56229.0  0.834879\n",
       "56588      56477.0  0.802253\n",
       "56720      56615.0  0.814534\n",
       "57454      57455.0  0.802224\n",
       "57675      57811.0  0.827869\n",
       "57752      57787.0  0.836656\n",
       "58452      58370.0  0.813038\n",
       "60383      60802.0  0.822376\n",
       "60535      60587.0  0.828931\n",
       "61841      61715.0  0.802613\n",
       "\n",
       "[249 rows x 2 columns]"
      ]
     },
     "execution_count": 50,
     "metadata": {},
     "output_type": "execute_result"
    }
   ],
   "source": [
    "rf_result.loc[rf_result.result>0.8]"
   ]
  },
  {
   "cell_type": "code",
   "execution_count": null,
   "metadata": {},
   "outputs": [],
   "source": []
  }
 ],
 "metadata": {
  "kernelspec": {
   "display_name": "Python 3",
   "language": "python",
   "name": "python3"
  },
  "language_info": {
   "codemirror_mode": {
    "name": "ipython",
    "version": 3
   },
   "file_extension": ".py",
   "mimetype": "text/x-python",
   "name": "python",
   "nbconvert_exporter": "python",
   "pygments_lexer": "ipython3",
   "version": "3.7.3"
  }
 },
 "nbformat": 4,
 "nbformat_minor": 2
}
