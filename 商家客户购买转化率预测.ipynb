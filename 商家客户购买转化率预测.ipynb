{
 "cells": [
  {
   "cell_type": "code",
   "execution_count": 1,
   "metadata": {},
   "outputs": [],
   "source": [
    "import pandas as pd \n",
    "import numpy as np\n",
    "import matplotlib.pyplot as plt\n",
    "import seaborn as sns\n",
    "from sklearn.preprocessing import OneHotEncoder, LabelEncoder\n",
    "from datetime import datetime\n",
    "import xgboost as xgb\n",
    "import lightgbm as lgb\n",
    "from sklearn.model_selection import train_test_split\n",
    "from sklearn.svm import SVR\n",
    "from sklearn.metrics import log_loss\n",
    "from sklearn.linear_model import LogisticRegression\n",
    "from sklearn.ensemble import RandomForestClassifier\n",
    "from sklearn.model_selection import GridSearchCV"
   ]
  },
  {
   "cell_type": "code",
   "execution_count": 2,
   "metadata": {},
   "outputs": [
    {
     "name": "stderr",
     "output_type": "stream",
     "text": [
      "/opt/conda/lib/python3.7/site-packages/IPython/core/interactiveshell.py:3057: DtypeWarning: Columns (15,16) have mixed types. Specify dtype option on import or set low_memory=False.\n",
      "  interactivity=interactivity, compiler=compiler, result=result)\n"
     ]
    }
   ],
   "source": [
    "train = pd.read_csv('./data/round1_diac2019_train.csv', parse_dates=['order_pay_time','goods_list_time','goods_delist_time'])\n",
    "test = pd.read_csv('./data/round1_diac2019_test.csv',)"
   ]
  },
  {
   "cell_type": "code",
   "execution_count": 3,
   "metadata": {
    "scrolled": true
   },
   "outputs": [
    {
     "name": "stdout",
     "output_type": "stream",
     "text": [
      "<class 'pandas.core.frame.DataFrame'>\n",
      "RangeIndex: 1400831 entries, 0 to 1400830\n",
      "Data columns (total 28 columns):\n",
      "order_detail_id           1400831 non-null int64\n",
      "order_id                  1400831 non-null int64\n",
      "order_total_num           1400831 non-null int64\n",
      "order_amount              1400831 non-null float64\n",
      "order_total_payment       1400831 non-null float64\n",
      "order_total_discount      1400831 non-null float64\n",
      "order_pay_time            1400831 non-null datetime64[ns]\n",
      "order_status              1400831 non-null int64\n",
      "order_count               1400831 non-null int64\n",
      "is_customer_rate          1315964 non-null float64\n",
      "order_detail_status       1400831 non-null int64\n",
      "order_detail_goods_num    1400831 non-null int64\n",
      "order_detail_amount       1315964 non-null float64\n",
      "order_detail_payment      1400831 non-null float64\n",
      "order_detail_discount     1400831 non-null float64\n",
      "customer_province         1315315 non-null object\n",
      "customer_city             1315315 non-null object\n",
      "member_id                 1400831 non-null int64\n",
      "customer_id               1400764 non-null float64\n",
      "customer_gender           551602 non-null float64\n",
      "member_status             551602 non-null float64\n",
      "is_member_actived         551602 non-null float64\n",
      "goods_id                  1400831 non-null int64\n",
      "goods_price               1400831 non-null float64\n",
      "goods_status              1400831 non-null int64\n",
      "goods_has_discount        1400831 non-null int64\n",
      "goods_list_time           1400831 non-null datetime64[ns]\n",
      "goods_delist_time         1400831 non-null datetime64[ns]\n",
      "dtypes: datetime64[ns](3), float64(12), int64(11), object(2)\n",
      "memory usage: 299.2+ MB\n"
     ]
    }
   ],
   "source": [
    "train.info(verbose=True, null_counts=True)"
   ]
  },
  {
   "cell_type": "code",
   "execution_count": 4,
   "metadata": {},
   "outputs": [],
   "source": [
    "# 去除customer_id为空的样本\n",
    "train = train.loc[~train.customer_id.isna()]"
   ]
  },
  {
   "cell_type": "code",
   "execution_count": 7,
   "metadata": {},
   "outputs": [],
   "source": [
    "part_train = train[['customer_id', 'customer_province', 'customer_city']]\n",
    "train = train.drop(['customer_province', 'customer_city'], axis=1).merge(part_train.groupby('customer_id').last(), on='customer_id', how='left')"
   ]
  },
  {
   "cell_type": "code",
   "execution_count": 8,
   "metadata": {
    "scrolled": true
   },
   "outputs": [
    {
     "name": "stdout",
     "output_type": "stream",
     "text": [
      "<class 'pandas.core.frame.DataFrame'>\n",
      "Int64Index: 1400764 entries, 0 to 1400763\n",
      "Data columns (total 28 columns):\n",
      "order_detail_id           1400764 non-null int64\n",
      "order_id                  1400764 non-null int64\n",
      "order_total_num           1400764 non-null int64\n",
      "order_amount              1400764 non-null float64\n",
      "order_total_payment       1400764 non-null float64\n",
      "order_total_discount      1400764 non-null float64\n",
      "order_pay_time            1400764 non-null datetime64[ns]\n",
      "order_status              1400764 non-null int64\n",
      "order_count               1400764 non-null int64\n",
      "is_customer_rate          1315897 non-null float64\n",
      "order_detail_status       1400764 non-null int64\n",
      "order_detail_goods_num    1400764 non-null int64\n",
      "order_detail_amount       1315897 non-null float64\n",
      "order_detail_payment      1400764 non-null float64\n",
      "order_detail_discount     1400764 non-null float64\n",
      "member_id                 1400764 non-null int64\n",
      "customer_id               1400764 non-null float64\n",
      "customer_gender           551590 non-null float64\n",
      "member_status             551590 non-null float64\n",
      "is_member_actived         551590 non-null float64\n",
      "goods_id                  1400764 non-null int64\n",
      "goods_price               1400764 non-null float64\n",
      "goods_status              1400764 non-null int64\n",
      "goods_has_discount        1400764 non-null int64\n",
      "goods_list_time           1400764 non-null datetime64[ns]\n",
      "goods_delist_time         1400764 non-null datetime64[ns]\n",
      "customer_province         1340266 non-null object\n",
      "customer_city             1340266 non-null object\n",
      "dtypes: datetime64[ns](3), float64(12), int64(11), object(2)\n",
      "memory usage: 309.9+ MB\n"
     ]
    }
   ],
   "source": [
    "train.info()"
   ]
  },
  {
   "cell_type": "code",
   "execution_count": 9,
   "metadata": {},
   "outputs": [],
   "source": [
    "# 省份跟城市的空值以\"未知\"代替\n",
    "train.customer_province = train.customer_province.fillna('未知')\n",
    "train.customer_city = train.customer_city.fillna('未知')"
   ]
  },
  {
   "cell_type": "code",
   "execution_count": 10,
   "metadata": {},
   "outputs": [],
   "source": [
    "# 缺失值太多, 删除列\n",
    "train.drop(['customer_gender', 'member_status'], axis=1, inplace=True)"
   ]
  },
  {
   "cell_type": "code",
   "execution_count": 11,
   "metadata": {},
   "outputs": [],
   "source": [
    "train.is_member_actived = train.is_member_actived.fillna(0)\n",
    "train.is_customer_rate = train.is_customer_rate.fillna(0)"
   ]
  },
  {
   "cell_type": "code",
   "execution_count": 12,
   "metadata": {},
   "outputs": [],
   "source": [
    "train.is_customer_rate = train.is_customer_rate.astype('int16')\n",
    "train.customer_id = train.customer_id.astype('int64')\n",
    "#train.customer_gender = train.customer_gender.astype('int16')\n",
    "#train.member_status = train.member_status.astype('int16')\n",
    "train.is_member_actived = train.is_member_actived.astype('int16')"
   ]
  },
  {
   "cell_type": "code",
   "execution_count": 13,
   "metadata": {},
   "outputs": [],
   "source": [
    "# 总价应等于折扣+实付价格\n",
    "train.order_detail_amount = train.order_detail_discount + train.order_detail_payment\n",
    "train.order_amount = train.order_total_discount + train.order_total_payment"
   ]
  },
  {
   "cell_type": "code",
   "execution_count": 14,
   "metadata": {},
   "outputs": [],
   "source": [
    "# 省份 label encoding\n",
    "le = LabelEncoder()\n",
    "le.fit(train.customer_province)\n",
    "train.customer_province = le.transform(train.customer_province)"
   ]
  },
  {
   "cell_type": "code",
   "execution_count": 15,
   "metadata": {},
   "outputs": [],
   "source": [
    "# 城市 label encoding\n",
    "le2 = LabelEncoder()\n",
    "le2.fit(train.customer_city)\n",
    "train.customer_city = le2.transform(train.customer_city)"
   ]
  },
  {
   "cell_type": "code",
   "execution_count": 18,
   "metadata": {},
   "outputs": [],
   "source": [
    "train.sort_values('order_pay_time', inplace=True)"
   ]
  },
  {
   "cell_type": "code",
   "execution_count": 70,
   "metadata": {
    "scrolled": true
   },
   "outputs": [],
   "source": [
    "# 取前180天的作为标签训练集\n",
    "data_before = train.loc[train['order_pay_time'] <= datetime(2013, 7, 3)]\n",
    "data_after = train.loc[train['order_pay_time'] > datetime(2013, 7, 3)]"
   ]
  },
  {
   "cell_type": "code",
   "execution_count": 71,
   "metadata": {},
   "outputs": [
    {
     "name": "stderr",
     "output_type": "stream",
     "text": [
      "/opt/conda/lib/python3.7/site-packages/ipykernel_launcher.py:2: SettingWithCopyWarning: \n",
      "A value is trying to be set on a copy of a slice from a DataFrame.\n",
      "Try using .loc[row_indexer,col_indexer] = value instead\n",
      "\n",
      "See the caveats in the documentation: http://pandas.pydata.org/pandas-docs/stable/indexing.html#indexing-view-versus-copy\n",
      "  \n"
     ]
    }
   ],
   "source": [
    "# 构造标签\n",
    "data_before['label'] = np.int16(np.isin(data_before['customer_id'], data_after['customer_id']))"
   ]
  },
  {
   "cell_type": "code",
   "execution_count": 72,
   "metadata": {},
   "outputs": [],
   "source": [
    "# 半年内依旧上架的商品\n",
    "# 对于训练集\n",
    "test_still_list = data_before['goods_list_time'].apply(lambda x: 1 if datetime(2013, 7, 3)<=x<datetime(2014, 1, 1) else 0)\n",
    "# 对于全集\n",
    "still_list = train['goods_list_time'].apply(lambda x: 1 if datetime(2014, 1, 1)<=x<=datetime(2014, 7, 3) else 0)"
   ]
  },
  {
   "cell_type": "code",
   "execution_count": 73,
   "metadata": {},
   "outputs": [
    {
     "name": "stderr",
     "output_type": "stream",
     "text": [
      "/opt/conda/lib/python3.7/site-packages/ipykernel_launcher.py:1: SettingWithCopyWarning: \n",
      "A value is trying to be set on a copy of a slice from a DataFrame.\n",
      "Try using .loc[row_indexer,col_indexer] = value instead\n",
      "\n",
      "See the caveats in the documentation: http://pandas.pydata.org/pandas-docs/stable/indexing.html#indexing-view-versus-copy\n",
      "  \"\"\"Entry point for launching an IPython kernel.\n"
     ]
    }
   ],
   "source": [
    "data_before['still_list'] = test_still_list\n",
    "train['still_list'] = still_list"
   ]
  },
  {
   "cell_type": "code",
   "execution_count": 74,
   "metadata": {},
   "outputs": [
    {
     "name": "stderr",
     "output_type": "stream",
     "text": [
      "/opt/conda/lib/python3.7/site-packages/ipykernel_launcher.py:1: SettingWithCopyWarning: \n",
      "A value is trying to be set on a copy of a slice from a DataFrame.\n",
      "Try using .loc[row_indexer,col_indexer] = value instead\n",
      "\n",
      "See the caveats in the documentation: http://pandas.pydata.org/pandas-docs/stable/indexing.html#indexing-view-versus-copy\n",
      "  \"\"\"Entry point for launching an IPython kernel.\n"
     ]
    }
   ],
   "source": [
    "data_before['payment'] = data_before['order_total_payment'] / data_before['order_total_num']\n",
    "train['payment'] = train['order_total_payment'] / train['order_total_num']"
   ]
  },
  {
   "cell_type": "code",
   "execution_count": 75,
   "metadata": {},
   "outputs": [],
   "source": [
    " def handle(df):\n",
    "    g = df.groupby('customer_id')\n",
    "    list_goods_num = g['still_list'].sum().values\n",
    "    rate_num = g['is_customer_rate'].sum().values\n",
    "    payment = g['payment'].sum().values\n",
    "    customer_id = g.count().index\n",
    "    return pd.DataFrame({'customer_id': customer_id, 'list_goods_num': list_goods_num, 'rate_num': rate_num, 'payment': payment})"
   ]
  },
  {
   "cell_type": "code",
   "execution_count": 76,
   "metadata": {},
   "outputs": [
    {
     "data": {
      "text/plain": [
       "Index(['order_detail_id', 'order_id', 'order_total_num', 'order_amount',\n",
       "       'order_total_payment', 'order_total_discount', 'order_pay_time',\n",
       "       'order_status', 'order_count', 'is_customer_rate',\n",
       "       'order_detail_status', 'order_detail_goods_num', 'order_detail_amount',\n",
       "       'order_detail_payment', 'order_detail_discount', 'member_id',\n",
       "       'customer_id', 'is_member_actived', 'goods_id', 'goods_price',\n",
       "       'goods_status', 'goods_has_discount', 'goods_list_time',\n",
       "       'goods_delist_time', 'customer_province', 'customer_city', 'still_list',\n",
       "       'payment', 'label'],\n",
       "      dtype='object')"
      ]
     },
     "execution_count": 76,
     "metadata": {},
     "output_type": "execute_result"
    }
   ],
   "source": [
    "data_before.columns"
   ]
  },
  {
   "cell_type": "code",
   "execution_count": 115,
   "metadata": {},
   "outputs": [],
   "source": [
    "# drop_columns = ['goods_id', 'order_total_payment', 'order_total_num', 'order_pay_time', 'goods_list_time', \n",
    "#                'is_customer_rate', 'still_list', 'payment']\n",
    "drop_columns = ['order_pay_time', 'goods_list_time', 'goods_delist_time']"
   ]
  },
  {
   "cell_type": "code",
   "execution_count": 116,
   "metadata": {},
   "outputs": [],
   "source": [
    "data_before_tool = handle(data_before)\n",
    "data_before2 = data_before.drop(drop_columns, axis=1).loc[data_before['customer_id'].drop_duplicates().index]\n",
    "data_before3 = data_before2.merge(data_before_tool, on='customer_id')"
   ]
  },
  {
   "cell_type": "code",
   "execution_count": 117,
   "metadata": {
    "scrolled": true
   },
   "outputs": [],
   "source": [
    "train_tool = handle(train)\n",
    "train2 = train.drop(drop_columns, axis=1).loc[train['customer_id'].drop_duplicates().index]\n",
    "train3 = train2.merge(train_tool, on='customer_id')"
   ]
  },
  {
   "cell_type": "code",
   "execution_count": 118,
   "metadata": {},
   "outputs": [],
   "source": [
    "def model_data(data):\n",
    "    X, y = data.drop(['label'], axis=1).values, data['label'].values\n",
    "    return train_test_split(X, y, test_size=0.1, random_state=42,stratify=y)"
   ]
  },
  {
   "cell_type": "code",
   "execution_count": 119,
   "metadata": {
    "scrolled": true
   },
   "outputs": [],
   "source": [
    "X_all = train3.drop([], axis=1).values\n",
    "X_train, X_valid, y_train, y_valid = model_data(data_before3)"
   ]
  },
  {
   "cell_type": "markdown",
   "metadata": {},
   "source": [
    "### RF"
   ]
  },
  {
   "cell_type": "code",
   "execution_count": 148,
   "metadata": {},
   "outputs": [],
   "source": [
    "rf = RandomForestClassifier(n_estimators=400, min_samples_split=35,\n",
    "                                  min_samples_leaf=20,max_depth=19,max_features='sqrt' ,random_state=10, verbose=False, oob_score=True)"
   ]
  },
  {
   "cell_type": "code",
   "execution_count": 149,
   "metadata": {
    "scrolled": true
   },
   "outputs": [
    {
     "data": {
      "text/plain": [
       "RandomForestClassifier(bootstrap=True, class_weight=None, criterion='gini',\n",
       "                       max_depth=19, max_features='sqrt', max_leaf_nodes=None,\n",
       "                       min_impurity_decrease=0.0, min_impurity_split=None,\n",
       "                       min_samples_leaf=20, min_samples_split=35,\n",
       "                       min_weight_fraction_leaf=0.0, n_estimators=400,\n",
       "                       n_jobs=None, oob_score=True, random_state=10,\n",
       "                       verbose=False, warm_start=False)"
      ]
     },
     "execution_count": 149,
     "metadata": {},
     "output_type": "execute_result"
    }
   ],
   "source": [
    "rf.fit(X_train, y_train)"
   ]
  },
  {
   "cell_type": "code",
   "execution_count": 150,
   "metadata": {
    "scrolled": true
   },
   "outputs": [],
   "source": [
    "pred3 = rf.predict_proba(X_valid)"
   ]
  },
  {
   "cell_type": "code",
   "execution_count": 151,
   "metadata": {},
   "outputs": [
    {
     "data": {
      "text/plain": [
       "0.3501532782579421"
      ]
     },
     "execution_count": 151,
     "metadata": {},
     "output_type": "execute_result"
    }
   ],
   "source": [
    "log_loss(y_valid, pred3[:, 1])"
   ]
  },
  {
   "cell_type": "code",
   "execution_count": 146,
   "metadata": {
    "scrolled": true
   },
   "outputs": [
    {
     "name": "stdout",
     "output_type": "stream",
     "text": [
      "CPU times: user 1h 14min 59s, sys: 37.3 s, total: 1h 15min 37s\n",
      "Wall time: 1h 15min 47s\n"
     ]
    },
    {
     "data": {
      "text/plain": [
       "GridSearchCV(cv=3, error_score='raise-deprecating',\n",
       "             estimator=RandomForestClassifier(bootstrap=True, class_weight=None,\n",
       "                                              criterion='gini', max_depth=19,\n",
       "                                              max_features='sqrt',\n",
       "                                              max_leaf_nodes=None,\n",
       "                                              min_impurity_decrease=0.0,\n",
       "                                              min_impurity_split=None,\n",
       "                                              min_samples_leaf=1,\n",
       "                                              min_samples_split=100,\n",
       "                                              min_weight_fraction_leaf=0.0,\n",
       "                                              n_estimators=400, n_jobs=None,\n",
       "                                              oob_score=True, random_state=10,\n",
       "                                              verbose=0, warm_start=False),\n",
       "             iid='warn', n_jobs=None,\n",
       "             param_grid={'min_samples_split': range(30, 70, 5)},\n",
       "             pre_dispatch='2*n_jobs', refit=True, return_train_score=False,\n",
       "             scoring='neg_log_loss', verbose=0)"
      ]
     },
     "execution_count": 146,
     "metadata": {},
     "output_type": "execute_result"
    }
   ],
   "source": [
    "%%time\n",
    "param1 = {'min_samples_split':range(30,70,5)}\n",
    "gsearch1 = GridSearchCV(estimator = RandomForestClassifier(min_samples_split=100, n_estimators=400, max_depth=19,\n",
    "                                  max_features='sqrt' ,random_state=10, oob_score=True), \n",
    "                       param_grid = param1, scoring='neg_log_loss',cv=3)\n",
    "gsearch1.fit(X_train, y_train)"
   ]
  },
  {
   "cell_type": "code",
   "execution_count": 154,
   "metadata": {
    "scrolled": true
   },
   "outputs": [],
   "source": [
    "rf_pred = rf.predict_proba(X_all)"
   ]
  },
  {
   "cell_type": "markdown",
   "metadata": {},
   "source": [
    "### 提交数据"
   ]
  },
  {
   "cell_type": "code",
   "execution_count": 37,
   "metadata": {},
   "outputs": [],
   "source": [
    "def get_result(all_data, pred):\n",
    "    global test\n",
    "    \n",
    "    all_result = pd.DataFrame({'customer_id': all_data.customer_id.values, 'result2':pred})\n",
    "    result = test.merge(all_result, on='customer_id', how='left')\n",
    "    result.result = result.result2\n",
    "    result.drop(['result2'], axis=1, inplace=True)\n",
    "    result.dropna(inplace=True)\n",
    "    result.to_csv('./data/submit.csv', index=False)\n",
    "    return result"
   ]
  },
  {
   "cell_type": "code",
   "execution_count": 155,
   "metadata": {},
   "outputs": [],
   "source": [
    "rf_result = get_result(train3, rf_pred[:, 1])"
   ]
  },
  {
   "cell_type": "code",
   "execution_count": 158,
   "metadata": {
    "scrolled": true
   },
   "outputs": [
    {
     "data": {
      "text/html": [
       "<div>\n",
       "<style scoped>\n",
       "    .dataframe tbody tr th:only-of-type {\n",
       "        vertical-align: middle;\n",
       "    }\n",
       "\n",
       "    .dataframe tbody tr th {\n",
       "        vertical-align: top;\n",
       "    }\n",
       "\n",
       "    .dataframe thead th {\n",
       "        text-align: right;\n",
       "    }\n",
       "</style>\n",
       "<table border=\"1\" class=\"dataframe\">\n",
       "  <thead>\n",
       "    <tr style=\"text-align: right;\">\n",
       "      <th></th>\n",
       "      <th>customer_id</th>\n",
       "      <th>result</th>\n",
       "    </tr>\n",
       "  </thead>\n",
       "  <tbody>\n",
       "    <tr>\n",
       "      <th>5184</th>\n",
       "      <td>5485.0</td>\n",
       "      <td>0.817526</td>\n",
       "    </tr>\n",
       "    <tr>\n",
       "      <th>5256</th>\n",
       "      <td>5218.0</td>\n",
       "      <td>0.802154</td>\n",
       "    </tr>\n",
       "    <tr>\n",
       "      <th>6211</th>\n",
       "      <td>6055.0</td>\n",
       "      <td>0.841531</td>\n",
       "    </tr>\n",
       "    <tr>\n",
       "      <th>6222</th>\n",
       "      <td>5835.0</td>\n",
       "      <td>0.817040</td>\n",
       "    </tr>\n",
       "    <tr>\n",
       "      <th>9524</th>\n",
       "      <td>9800.0</td>\n",
       "      <td>0.802350</td>\n",
       "    </tr>\n",
       "    <tr>\n",
       "      <th>10090</th>\n",
       "      <td>10122.0</td>\n",
       "      <td>0.823482</td>\n",
       "    </tr>\n",
       "    <tr>\n",
       "      <th>13081</th>\n",
       "      <td>13448.0</td>\n",
       "      <td>0.802626</td>\n",
       "    </tr>\n",
       "    <tr>\n",
       "      <th>13963</th>\n",
       "      <td>14009.0</td>\n",
       "      <td>0.833354</td>\n",
       "    </tr>\n",
       "    <tr>\n",
       "      <th>14288</th>\n",
       "      <td>14532.0</td>\n",
       "      <td>0.813196</td>\n",
       "    </tr>\n",
       "    <tr>\n",
       "      <th>14720</th>\n",
       "      <td>14175.0</td>\n",
       "      <td>0.819458</td>\n",
       "    </tr>\n",
       "    <tr>\n",
       "      <th>14866</th>\n",
       "      <td>15156.0</td>\n",
       "      <td>0.825435</td>\n",
       "    </tr>\n",
       "    <tr>\n",
       "      <th>15801</th>\n",
       "      <td>15796.0</td>\n",
       "      <td>0.806474</td>\n",
       "    </tr>\n",
       "    <tr>\n",
       "      <th>17463</th>\n",
       "      <td>17387.0</td>\n",
       "      <td>0.817837</td>\n",
       "    </tr>\n",
       "    <tr>\n",
       "      <th>17573</th>\n",
       "      <td>17463.0</td>\n",
       "      <td>0.841436</td>\n",
       "    </tr>\n",
       "    <tr>\n",
       "      <th>17916</th>\n",
       "      <td>17969.0</td>\n",
       "      <td>0.801067</td>\n",
       "    </tr>\n",
       "    <tr>\n",
       "      <th>18061</th>\n",
       "      <td>18109.0</td>\n",
       "      <td>0.807671</td>\n",
       "    </tr>\n",
       "    <tr>\n",
       "      <th>18457</th>\n",
       "      <td>18758.0</td>\n",
       "      <td>0.820779</td>\n",
       "    </tr>\n",
       "    <tr>\n",
       "      <th>18949</th>\n",
       "      <td>18368.0</td>\n",
       "      <td>0.807736</td>\n",
       "    </tr>\n",
       "    <tr>\n",
       "      <th>19128</th>\n",
       "      <td>19365.0</td>\n",
       "      <td>0.816358</td>\n",
       "    </tr>\n",
       "    <tr>\n",
       "      <th>19830</th>\n",
       "      <td>20213.0</td>\n",
       "      <td>0.822245</td>\n",
       "    </tr>\n",
       "    <tr>\n",
       "      <th>19909</th>\n",
       "      <td>19811.0</td>\n",
       "      <td>0.816274</td>\n",
       "    </tr>\n",
       "    <tr>\n",
       "      <th>19997</th>\n",
       "      <td>20324.0</td>\n",
       "      <td>0.812838</td>\n",
       "    </tr>\n",
       "    <tr>\n",
       "      <th>20418</th>\n",
       "      <td>20727.0</td>\n",
       "      <td>0.836716</td>\n",
       "    </tr>\n",
       "    <tr>\n",
       "      <th>20499</th>\n",
       "      <td>20834.0</td>\n",
       "      <td>0.852537</td>\n",
       "    </tr>\n",
       "    <tr>\n",
       "      <th>20806</th>\n",
       "      <td>20453.0</td>\n",
       "      <td>0.811403</td>\n",
       "    </tr>\n",
       "    <tr>\n",
       "      <th>21410</th>\n",
       "      <td>21651.0</td>\n",
       "      <td>0.807390</td>\n",
       "    </tr>\n",
       "    <tr>\n",
       "      <th>21591</th>\n",
       "      <td>21427.0</td>\n",
       "      <td>0.814937</td>\n",
       "    </tr>\n",
       "    <tr>\n",
       "      <th>21994</th>\n",
       "      <td>21828.0</td>\n",
       "      <td>0.810562</td>\n",
       "    </tr>\n",
       "    <tr>\n",
       "      <th>22006</th>\n",
       "      <td>21959.0</td>\n",
       "      <td>0.813463</td>\n",
       "    </tr>\n",
       "    <tr>\n",
       "      <th>22602</th>\n",
       "      <td>22381.0</td>\n",
       "      <td>0.820433</td>\n",
       "    </tr>\n",
       "    <tr>\n",
       "      <th>...</th>\n",
       "      <td>...</td>\n",
       "      <td>...</td>\n",
       "    </tr>\n",
       "    <tr>\n",
       "      <th>44517</th>\n",
       "      <td>44302.0</td>\n",
       "      <td>0.855943</td>\n",
       "    </tr>\n",
       "    <tr>\n",
       "      <th>44950</th>\n",
       "      <td>44821.0</td>\n",
       "      <td>0.827557</td>\n",
       "    </tr>\n",
       "    <tr>\n",
       "      <th>45851</th>\n",
       "      <td>45990.0</td>\n",
       "      <td>0.824798</td>\n",
       "    </tr>\n",
       "    <tr>\n",
       "      <th>45961</th>\n",
       "      <td>45738.0</td>\n",
       "      <td>0.833902</td>\n",
       "    </tr>\n",
       "    <tr>\n",
       "      <th>46374</th>\n",
       "      <td>46182.0</td>\n",
       "      <td>0.803468</td>\n",
       "    </tr>\n",
       "    <tr>\n",
       "      <th>46838</th>\n",
       "      <td>46935.0</td>\n",
       "      <td>0.817969</td>\n",
       "    </tr>\n",
       "    <tr>\n",
       "      <th>47182</th>\n",
       "      <td>46976.0</td>\n",
       "      <td>0.822778</td>\n",
       "    </tr>\n",
       "    <tr>\n",
       "      <th>47422</th>\n",
       "      <td>47482.0</td>\n",
       "      <td>0.816467</td>\n",
       "    </tr>\n",
       "    <tr>\n",
       "      <th>47551</th>\n",
       "      <td>47556.0</td>\n",
       "      <td>0.816882</td>\n",
       "    </tr>\n",
       "    <tr>\n",
       "      <th>48079</th>\n",
       "      <td>48551.0</td>\n",
       "      <td>0.809343</td>\n",
       "    </tr>\n",
       "    <tr>\n",
       "      <th>48479</th>\n",
       "      <td>48485.0</td>\n",
       "      <td>0.838586</td>\n",
       "    </tr>\n",
       "    <tr>\n",
       "      <th>48489</th>\n",
       "      <td>48523.0</td>\n",
       "      <td>0.849146</td>\n",
       "    </tr>\n",
       "    <tr>\n",
       "      <th>48721</th>\n",
       "      <td>48989.0</td>\n",
       "      <td>0.813679</td>\n",
       "    </tr>\n",
       "    <tr>\n",
       "      <th>48881</th>\n",
       "      <td>48971.0</td>\n",
       "      <td>0.800127</td>\n",
       "    </tr>\n",
       "    <tr>\n",
       "      <th>49767</th>\n",
       "      <td>49871.0</td>\n",
       "      <td>0.809405</td>\n",
       "    </tr>\n",
       "    <tr>\n",
       "      <th>50486</th>\n",
       "      <td>50076.0</td>\n",
       "      <td>0.800535</td>\n",
       "    </tr>\n",
       "    <tr>\n",
       "      <th>51121</th>\n",
       "      <td>50754.0</td>\n",
       "      <td>0.854629</td>\n",
       "    </tr>\n",
       "    <tr>\n",
       "      <th>51784</th>\n",
       "      <td>51574.0</td>\n",
       "      <td>0.807788</td>\n",
       "    </tr>\n",
       "    <tr>\n",
       "      <th>52318</th>\n",
       "      <td>52219.0</td>\n",
       "      <td>0.800598</td>\n",
       "    </tr>\n",
       "    <tr>\n",
       "      <th>53588</th>\n",
       "      <td>53489.0</td>\n",
       "      <td>0.800439</td>\n",
       "    </tr>\n",
       "    <tr>\n",
       "      <th>53600</th>\n",
       "      <td>53691.0</td>\n",
       "      <td>0.815696</td>\n",
       "    </tr>\n",
       "    <tr>\n",
       "      <th>54921</th>\n",
       "      <td>55054.0</td>\n",
       "      <td>0.812884</td>\n",
       "    </tr>\n",
       "    <tr>\n",
       "      <th>55108</th>\n",
       "      <td>55090.0</td>\n",
       "      <td>0.826738</td>\n",
       "    </tr>\n",
       "    <tr>\n",
       "      <th>55610</th>\n",
       "      <td>55428.0</td>\n",
       "      <td>0.812826</td>\n",
       "    </tr>\n",
       "    <tr>\n",
       "      <th>56151</th>\n",
       "      <td>56074.0</td>\n",
       "      <td>0.808012</td>\n",
       "    </tr>\n",
       "    <tr>\n",
       "      <th>56375</th>\n",
       "      <td>56229.0</td>\n",
       "      <td>0.807701</td>\n",
       "    </tr>\n",
       "    <tr>\n",
       "      <th>57675</th>\n",
       "      <td>57811.0</td>\n",
       "      <td>0.807320</td>\n",
       "    </tr>\n",
       "    <tr>\n",
       "      <th>57752</th>\n",
       "      <td>57787.0</td>\n",
       "      <td>0.839734</td>\n",
       "    </tr>\n",
       "    <tr>\n",
       "      <th>60383</th>\n",
       "      <td>60802.0</td>\n",
       "      <td>0.809667</td>\n",
       "    </tr>\n",
       "    <tr>\n",
       "      <th>60535</th>\n",
       "      <td>60587.0</td>\n",
       "      <td>0.814521</td>\n",
       "    </tr>\n",
       "  </tbody>\n",
       "</table>\n",
       "<p>108 rows × 2 columns</p>\n",
       "</div>"
      ],
      "text/plain": [
       "       customer_id    result\n",
       "5184        5485.0  0.817526\n",
       "5256        5218.0  0.802154\n",
       "6211        6055.0  0.841531\n",
       "6222        5835.0  0.817040\n",
       "9524        9800.0  0.802350\n",
       "10090      10122.0  0.823482\n",
       "13081      13448.0  0.802626\n",
       "13963      14009.0  0.833354\n",
       "14288      14532.0  0.813196\n",
       "14720      14175.0  0.819458\n",
       "14866      15156.0  0.825435\n",
       "15801      15796.0  0.806474\n",
       "17463      17387.0  0.817837\n",
       "17573      17463.0  0.841436\n",
       "17916      17969.0  0.801067\n",
       "18061      18109.0  0.807671\n",
       "18457      18758.0  0.820779\n",
       "18949      18368.0  0.807736\n",
       "19128      19365.0  0.816358\n",
       "19830      20213.0  0.822245\n",
       "19909      19811.0  0.816274\n",
       "19997      20324.0  0.812838\n",
       "20418      20727.0  0.836716\n",
       "20499      20834.0  0.852537\n",
       "20806      20453.0  0.811403\n",
       "21410      21651.0  0.807390\n",
       "21591      21427.0  0.814937\n",
       "21994      21828.0  0.810562\n",
       "22006      21959.0  0.813463\n",
       "22602      22381.0  0.820433\n",
       "...            ...       ...\n",
       "44517      44302.0  0.855943\n",
       "44950      44821.0  0.827557\n",
       "45851      45990.0  0.824798\n",
       "45961      45738.0  0.833902\n",
       "46374      46182.0  0.803468\n",
       "46838      46935.0  0.817969\n",
       "47182      46976.0  0.822778\n",
       "47422      47482.0  0.816467\n",
       "47551      47556.0  0.816882\n",
       "48079      48551.0  0.809343\n",
       "48479      48485.0  0.838586\n",
       "48489      48523.0  0.849146\n",
       "48721      48989.0  0.813679\n",
       "48881      48971.0  0.800127\n",
       "49767      49871.0  0.809405\n",
       "50486      50076.0  0.800535\n",
       "51121      50754.0  0.854629\n",
       "51784      51574.0  0.807788\n",
       "52318      52219.0  0.800598\n",
       "53588      53489.0  0.800439\n",
       "53600      53691.0  0.815696\n",
       "54921      55054.0  0.812884\n",
       "55108      55090.0  0.826738\n",
       "55610      55428.0  0.812826\n",
       "56151      56074.0  0.808012\n",
       "56375      56229.0  0.807701\n",
       "57675      57811.0  0.807320\n",
       "57752      57787.0  0.839734\n",
       "60383      60802.0  0.809667\n",
       "60535      60587.0  0.814521\n",
       "\n",
       "[108 rows x 2 columns]"
      ]
     },
     "execution_count": 158,
     "metadata": {},
     "output_type": "execute_result"
    }
   ],
   "source": [
    "rf_result.loc[rf_result.result>0.8]"
   ]
  },
  {
   "cell_type": "code",
   "execution_count": null,
   "metadata": {},
   "outputs": [],
   "source": []
  }
 ],
 "metadata": {
  "kernelspec": {
   "display_name": "Python 3",
   "language": "python",
   "name": "python3"
  },
  "language_info": {
   "codemirror_mode": {
    "name": "ipython",
    "version": 3
   },
   "file_extension": ".py",
   "mimetype": "text/x-python",
   "name": "python",
   "nbconvert_exporter": "python",
   "pygments_lexer": "ipython3",
   "version": "3.7.3"
  }
 },
 "nbformat": 4,
 "nbformat_minor": 2
}
